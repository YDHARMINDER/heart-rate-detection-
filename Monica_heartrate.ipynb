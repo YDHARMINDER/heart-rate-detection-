{
 "cells": [
  {
   "cell_type": "code",
   "execution_count": 2,
   "id": "e0babfc1",
   "metadata": {},
   "outputs": [
    {
     "name": "stderr",
     "output_type": "stream",
     "text": [
      "C:\\Users\\USER\\AppData\\Local\\Temp\\ipykernel_6992\\521364491.py:33: DeprecationWarning: The binary mode of fromstring is deprecated, as it behaves surprisingly on unicode inputs. Use frombuffer instead\n",
      "  plot_img_np = np.fromstring(fig.canvas.tostring_rgb(),\n"
     ]
    },
    {
     "data": {
      "image/png": "[encoded data removed]",
      "text/plain": [
       "<Figure size 432x288 with 1 Axes>"
      ]
     },
     "metadata": {
      "needs_background": "light"
     },
     "output_type": "display_data"
    }
   ],
   "source": [
    "import numpy as np\n",
    "from matplotlib import pyplot as plt\n",
    "import cv2\n",
    "import io\n",
    "import time\n",
    "# Camera stream\n",
    "cap = cv2.VideoCapture(0)\n",
    "cap.set(cv2.CAP_PROP_FRAME_WIDTH, 1920)\n",
    "cap.set(cv2.CAP_PROP_FRAME_HEIGHT, 1280)\n",
    "cap.set(cv2.CAP_PROP_FPS, 30)\n",
    "# Video stream (optional, not tested)\n",
    "# cap = cv2.VideoCapture(\"video.mp4\")\n",
    "# Image crop\n",
    "x, y, w, h = 800, 500, 100, 100\n",
    "x, y, w, h = 950, 300, 100, 100\n",
    "heartbeat_count = 128\n",
    "heartbeat_values = [0]*heartbeat_count\n",
    "heartbeat_times = [time.time()]*heartbeat_count\n",
    "# Matplotlib graph surface\n",
    "fig = plt.figure()\n",
    "ax = fig.add_subplot(111)\n",
    "while True:\n",
    "    # Capture frame-by-frame\n",
    "    ret, frame = cap.read()\n",
    "    img = cv2.cvtColor(frame, cv2.COLOR_BGR2GRAY)\n",
    "    crop_img = img[y:y + h, x:x + w]\n",
    "    # Update the data\n",
    "    heartbeat_values = heartbeat_values[1:] + [np.average(crop_img)]\n",
    "    heartbeat_times = heartbeat_times[1:] + [time.time()]\n",
    "    # Draw matplotlib graph to numpy array\n",
    "    ax.plot(heartbeat_times, heartbeat_values)\n",
    "    fig.canvas.draw()\n",
    "    plot_img_np = np.fromstring(fig.canvas.tostring_rgb(),\n",
    "                                dtype=np.uint8, sep='')\n",
    "    plot_img_np = plot_img_np.reshape(fig.canvas.get_width_height()[::-1] + (3,))\n",
    "    plt.cla()\n",
    "    # Display the frames\n",
    "    cv2.imshow('Crop', crop_img)\n",
    "    cv2.imshow('Graph', plot_img_np)\n",
    "    if cv2.waitKey(1) & 0xFF == ord('q'):\n",
    "        break\n",
    "cap.release()\n",
    "cv2.destroyAllWindows()"
   ]
  },
  {
   "cell_type": "code",
   "execution_count": 3,
   "id": "5a5904b7",
   "metadata": {},
   "outputs": [
    {
     "data": {
      "text/plain": [
       "[77.294,\n",
       " 77.5152,\n",
       " 77.5152,\n",
       " 77.2874,\n",
       " 77.5121,\n",
       " 77.6529,\n",
       " 77.5418,\n",
       " 77.5999,\n",
       " 77.5999,\n",
       " 77.3053,\n",
       " 76.9446,\n",
       " 77.0623,\n",
       " 77.1293,\n",
       " 76.9501,\n",
       " 77.0316,\n",
       " 77.0316,\n",
       " 77.2101,\n",
       " 77.2101,\n",
       " 77.1839,\n",
       " 77.0307,\n",
       " 77.0448,\n",
       " 76.9895,\n",
       " 76.9895,\n",
       " 76.8019,\n",
       " 76.6895,\n",
       " 76.6272,\n",
       " 76.7323,\n",
       " 76.5769,\n",
       " 76.7589,\n",
       " 76.7623,\n",
       " 76.7623,\n",
       " 77.0574,\n",
       " 77.0574,\n",
       " 77.045,\n",
       " 76.8788,\n",
       " 76.9943,\n",
       " 76.9831,\n",
       " 76.8435,\n",
       " 76.8435,\n",
       " 77.2669,\n",
       " 77.2669,\n",
       " 77.1026,\n",
       " 77.1898,\n",
       " 77.0328,\n",
       " 77.119,\n",
       " 77.119,\n",
       " 77.3162,\n",
       " 77.3162,\n",
       " 77.2628,\n",
       " 77.3497,\n",
       " 77.2928,\n",
       " 77.407,\n",
       " 77.4859,\n",
       " 77.5475,\n",
       " 77.024,\n",
       " 77.4323,\n",
       " 77.4323,\n",
       " 77.2157,\n",
       " 77.0104,\n",
       " 77.1119,\n",
       " 77.1007,\n",
       " 76.7504,\n",
       " 76.7644,\n",
       " 76.7644,\n",
       " 76.7221,\n",
       " 76.8685,\n",
       " 76.7237,\n",
       " 76.8576,\n",
       " 76.8813,\n",
       " 77.0798,\n",
       " 77.0798,\n",
       " 77.3236,\n",
       " 77.2889,\n",
       " 77.1796,\n",
       " 77.3569,\n",
       " 77.2191,\n",
       " 77.286,\n",
       " 77.286,\n",
       " 77.156,\n",
       " 77.4048,\n",
       " 77.5253,\n",
       " 77.5253,\n",
       " 77.8224,\n",
       " 77.8224,\n",
       " 77.7884,\n",
       " 77.7884,\n",
       " 77.4831,\n",
       " 77.4204,\n",
       " 77.5752,\n",
       " 77.715,\n",
       " 77.9457,\n",
       " 78.0204,\n",
       " 77.9364,\n",
       " 77.9364,\n",
       " 77.9062,\n",
       " 77.8705,\n",
       " 77.681,\n",
       " 77.7773,\n",
       " 77.6316,\n",
       " 77.7795,\n",
       " 78.4995,\n",
       " 79.1798,\n",
       " 79.1992,\n",
       " 78.7814,\n",
       " 78.7814,\n",
       " 78.9155,\n",
       " 80.7472,\n",
       " 80.9606,\n",
       " 80.2767,\n",
       " 80.2767,\n",
       " 81.0068,\n",
       " 81.0068,\n",
       " 80.2568,\n",
       " 79.3929,\n",
       " 79.0863,\n",
       " 79.3282,\n",
       " 79.6456,\n",
       " 79.9551,\n",
       " 79.9551,\n",
       " 81.4722,\n",
       " 82.8003,\n",
       " 84.6983,\n",
       " 84.6983,\n",
       " 85.7531,\n",
       " 86.7097,\n",
       " 87.2531,\n",
       " 87.2531]"
      ]
     },
     "execution_count": 3,
     "metadata": {},
     "output_type": "execute_result"
    }
   ],
   "source": [
    "heartbeat_values[1:]"
   ]
  },
  {
   "cell_type": "code",
   "execution_count": 4,
   "id": "f681e48f",
   "metadata": {},
   "outputs": [
    {
     "data": {
      "text/plain": [
       "array([[ 76,  75,  77, ..., 109, 109, 108],\n",
       "       [ 77,  77,  78, ..., 109, 109, 107],\n",
       "       [ 81,  82,  81, ..., 109, 109, 106],\n",
       "       ...,\n",
       "       [109, 110, 110, ...,  94,  93,  88],\n",
       "       [109, 110, 112, ...,  98,  96,  90],\n",
       "       [109, 110, 111, ..., 100,  98,  92]], dtype=uint8)"
      ]
     },
     "execution_count": 4,
     "metadata": {},
     "output_type": "execute_result"
    }
   ],
   "source": [
    "crop_img"
   ]
  },
  {
   "cell_type": "code",
   "execution_count": 6,
   "id": "6d445de1",
   "metadata": {},
   "outputs": [
    {
     "data": {
      "text/plain": [
       "98.6292"
      ]
     },
     "execution_count": 6,
     "metadata": {},
     "output_type": "execute_result"
    }
   ],
   "source": [
    "np.average(crop_img)"
   ]
  },
  {
   "cell_type": "code",
   "execution_count": 7,
   "id": "1938651c",
   "metadata": {},
   "outputs": [],
   "source": [
    "cv2.imshow('Crop', crop_img)"
   ]
  },
  {
   "cell_type": "code",
   "execution_count": 8,
   "id": "8e1f3e47",
   "metadata": {},
   "outputs": [],
   "source": [
    "cv2.imshow('Graph', plot_img_np)"
   ]
  },
  {
   "cell_type": "code",
   "execution_count": 9,
   "id": "2ec7f347",
   "metadata": {},
   "outputs": [
    {
     "data": {
      "text/plain": [
       "array([[[255, 255, 255],\n",
       "        [255, 255, 255],\n",
       "        [255, 255, 255],\n",
       "        ...,\n",
       "        [255, 255, 255],\n",
       "        [255, 255, 255],\n",
       "        [255, 255, 255]],\n",
       "\n",
       "       [[255, 255, 255],\n",
       "        [255, 255, 255],\n",
       "        [255, 255, 255],\n",
       "        ...,\n",
       "        [255, 255, 255],\n",
       "        [255, 255, 255],\n",
       "        [255, 255, 255]],\n",
       "\n",
       "       [[255, 255, 255],\n",
       "        [255, 255, 255],\n",
       "        [255, 255, 255],\n",
       "        ...,\n",
       "        [255, 255, 255],\n",
       "        [255, 255, 255],\n",
       "        [255, 255, 255]],\n",
       "\n",
       "       ...,\n",
       "\n",
       "       [[255, 255, 255],\n",
       "        [255, 255, 255],\n",
       "        [255, 255, 255],\n",
       "        ...,\n",
       "        [255, 255, 255],\n",
       "        [255, 255, 255],\n",
       "        [255, 255, 255]],\n",
       "\n",
       "       [[255, 255, 255],\n",
       "        [255, 255, 255],\n",
       "        [255, 255, 255],\n",
       "        ...,\n",
       "        [255, 255, 255],\n",
       "        [255, 255, 255],\n",
       "        [255, 255, 255]],\n",
       "\n",
       "       [[255, 255, 255],\n",
       "        [255, 255, 255],\n",
       "        [255, 255, 255],\n",
       "        ...,\n",
       "        [255, 255, 255],\n",
       "        [255, 255, 255],\n",
       "        [255, 255, 255]]], dtype=uint8)"
      ]
     },
     "execution_count": 9,
     "metadata": {},
     "output_type": "execute_result"
    }
   ],
   "source": [
    "plot_img_np"
   ]
  },
  {
   "cell_type": "code",
   "execution_count": 6,
   "id": "e4b43ce0",
   "metadata": {},
   "outputs": [
    {
     "data": {
      "image/png": "[encoded data removed]",
      "text/plain": [
       "<Figure size 432x288 with 1 Axes>"
      ]
     },
     "metadata": {
      "needs_background": "light"
     },
     "output_type": "display_data"
    }
   ],
   "source": [
    "import matplotlib.pyplot as plt\n",
    "  \n",
    "\n",
    "# plotting the points \n",
    "plt.plot(heartbeat_times,heartbeat_values)\n",
    "  \n",
    "# naming the x axis\n",
    "plt.xlabel('Time')\n",
    "# naming the y axis\n",
    "plt.ylabel('Heartbeat')\n",
    "  \n",
    "# giving a title to my graph\n",
    "plt.title('Heartbeat rate calculation')\n",
    "  \n",
    "# function to show the plot\n",
    "plt.show()"
   ]
  },
  {
   "cell_type": "code",
   "execution_count": null,
   "id": "335f5d44",
   "metadata": {},
   "outputs": [],
   "source": []
  }
 ],
 "metadata": {
  "kernelspec": {
   "display_name": "Python 3 (ipykernel)",
   "language": "python",
   "name": "python3"
  },
  "language_info": {
   "codemirror_mode": {
    "name": "ipython",
    "version": 3
   },
   "file_extension": ".py",
   "mimetype": "text/x-python",
   "name": "python",
   "nbconvert_exporter": "python",
   "pygments_lexer": "ipython3",
   "version": "3.9.12"
  }
 },
 "nbformat": 4,
 "nbformat_minor": 5
}
