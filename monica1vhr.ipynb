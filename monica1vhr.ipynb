{
 "cells": [
  {
   "cell_type": "code",
   "execution_count": 2,
   "id": "1be35e35",
   "metadata": {},
   "outputs": [
    {
     "name": "stdout",
     "output_type": "stream",
     "text": [
      "Defaulting to user installation because normal site-packages is not writeable\n",
      "Collecting mediapipe\n",
      "  Downloading mediapipe-0.8.10-cp39-cp39-win_amd64.whl (48.6 MB)\n",
      "Requirement already satisfied: matplotlib in c:\\programdata\\anaconda3\\lib\\site-packages (from mediapipe) (3.5.1)\n",
      "Requirement already satisfied: numpy in c:\\programdata\\anaconda3\\lib\\site-packages (from mediapipe) (1.21.5)\n",
      "Collecting opencv-contrib-python\n",
      "  Downloading opencv_contrib_python-4.5.5.64-cp36-abi3-win_amd64.whl (42.2 MB)\n",
      "Requirement already satisfied: protobuf>=3.11.4 in c:\\programdata\\anaconda3\\lib\\site-packages (from mediapipe) (3.19.1)\n",
      "Requirement already satisfied: attrs>=19.1.0 in c:\\programdata\\anaconda3\\lib\\site-packages (from mediapipe) (21.4.0)\n",
      "Collecting absl-py\n",
      "  Downloading absl_py-1.1.0-py3-none-any.whl (123 kB)\n",
      "Requirement already satisfied: cycler>=0.10 in c:\\programdata\\anaconda3\\lib\\site-packages (from matplotlib->mediapipe) (0.11.0)\n",
      "Requirement already satisfied: pyparsing>=2.2.1 in c:\\programdata\\anaconda3\\lib\\site-packages (from matplotlib->mediapipe) (3.0.4)\n",
      "Requirement already satisfied: kiwisolver>=1.0.1 in c:\\programdata\\anaconda3\\lib\\site-packages (from matplotlib->mediapipe) (1.3.2)\n",
      "Requirement already satisfied: packaging>=20.0 in c:\\programdata\\anaconda3\\lib\\site-packages (from matplotlib->mediapipe) (21.3)\n",
      "Requirement already satisfied: python-dateutil>=2.7 in c:\\programdata\\anaconda3\\lib\\site-packages (from matplotlib->mediapipe) (2.8.2)\n",
      "Requirement already satisfied: pillow>=6.2.0 in c:\\programdata\\anaconda3\\lib\\site-packages (from matplotlib->mediapipe) (9.0.1)\n",
      "Requirement already satisfied: fonttools>=4.22.0 in c:\\programdata\\anaconda3\\lib\\site-packages (from matplotlib->mediapipe) (4.25.0)\n",
      "Requirement already satisfied: six>=1.5 in c:\\programdata\\anaconda3\\lib\\site-packages (from python-dateutil>=2.7->matplotlib->mediapipe) (1.16.0)\n",
      "Installing collected packages: opencv-contrib-python, absl-py, mediapipe\n",
      "Successfully installed absl-py-1.1.0 mediapipe-0.8.10 opencv-contrib-python-4.5.5.64\n",
      "Note: you may need to restart the kernel to use updated packages.\n"
     ]
    }
   ],
   "source": [
    "pip install mediapipe"
   ]
  },
  {
   "cell_type": "code",
   "execution_count": 2,
   "id": "59d250c7",
   "metadata": {},
   "outputs": [
    {
     "name": "stdout",
     "output_type": "stream",
     "text": [
      "Defaulting to user installation because normal site-packages is not writeable\n",
      "Collecting torchvision\n",
      "  Downloading torchvision-0.12.0-cp39-cp39-win_amd64.whl (1.0 MB)\n",
      "Requirement already satisfied: pillow!=8.3.*,>=5.3.0 in c:\\programdata\\anaconda3\\lib\\site-packages (from torchvision) (9.0.1)\n",
      "Requirement already satisfied: requests in c:\\programdata\\anaconda3\\lib\\site-packages (from torchvision) (2.27.1)\n",
      "Requirement already satisfied: numpy in c:\\programdata\\anaconda3\\lib\\site-packages (from torchvision) (1.21.5)\n",
      "Collecting torch==1.11.0\n",
      "  Downloading torch-1.11.0-cp39-cp39-win_amd64.whl (157.9 MB)\n",
      "Requirement already satisfied: typing-extensions in c:\\programdata\\anaconda3\\lib\\site-packages (from torchvision) (4.1.1)\n",
      "Requirement already satisfied: idna<4,>=2.5 in c:\\programdata\\anaconda3\\lib\\site-packages (from requests->torchvision) (3.3)\n",
      "Requirement already satisfied: certifi>=2017.4.17 in c:\\programdata\\anaconda3\\lib\\site-packages (from requests->torchvision) (2021.10.8)\n",
      "Requirement already satisfied: urllib3<1.27,>=1.21.1 in c:\\programdata\\anaconda3\\lib\\site-packages (from requests->torchvision) (1.26.9)\n",
      "Requirement already satisfied: charset-normalizer~=2.0.0 in c:\\programdata\\anaconda3\\lib\\site-packages (from requests->torchvision) (2.0.4)\n",
      "Installing collected packages: torch, torchvision\n",
      "Successfully installed torch-1.11.0 torchvision-0.12.0\n",
      "Note: you may need to restart the kernel to use updated packages.\n"
     ]
    },
    {
     "name": "stderr",
     "output_type": "stream",
     "text": [
      "  WARNING: The scripts convert-caffe2-to-onnx.exe, convert-onnx-to-caffe2.exe and torchrun.exe are installed in 'C:\\Users\\USER\\AppData\\Roaming\\Python\\Python39\\Scripts' which is not on PATH.\n",
      "  Consider adding this directory to PATH or, if you prefer to suppress this warning, use --no-warn-script-location.\n"
     ]
    }
   ],
   "source": [
    "pip install torchvision"
   ]
  },
  {
   "cell_type": "code",
   "execution_count": 1,
   "id": "d310fb1e",
   "metadata": {},
   "outputs": [
    {
     "name": "stdout",
     "output_type": "stream",
     "text": [
      "Defaulting to user installation because normal site-packages is not writeable\n",
      "Collecting scikit-posthocs\n",
      "  Downloading scikit_posthocs-0.7.0-py3-none-any.whl (38 kB)\n",
      "Requirement already satisfied: scipy in c:\\programdata\\anaconda3\\lib\\site-packages (from scikit-posthocs) (1.7.3)\n",
      "Requirement already satisfied: statsmodels in c:\\programdata\\anaconda3\\lib\\site-packages (from scikit-posthocs) (0.13.2)\n",
      "Requirement already satisfied: seaborn in c:\\programdata\\anaconda3\\lib\\site-packages (from scikit-posthocs) (0.11.2)\n",
      "Requirement already satisfied: pandas>=0.20.0 in c:\\programdata\\anaconda3\\lib\\site-packages (from scikit-posthocs) (1.4.2)\n",
      "Requirement already satisfied: matplotlib in c:\\programdata\\anaconda3\\lib\\site-packages (from scikit-posthocs) (3.5.1)\n",
      "Requirement already satisfied: numpy in c:\\programdata\\anaconda3\\lib\\site-packages (from scikit-posthocs) (1.21.5)\n",
      "Requirement already satisfied: python-dateutil>=2.8.1 in c:\\programdata\\anaconda3\\lib\\site-packages (from pandas>=0.20.0->scikit-posthocs) (2.8.2)\n",
      "Requirement already satisfied: pytz>=2020.1 in c:\\programdata\\anaconda3\\lib\\site-packages (from pandas>=0.20.0->scikit-posthocs) (2021.3)\n",
      "Requirement already satisfied: six>=1.5 in c:\\programdata\\anaconda3\\lib\\site-packages (from python-dateutil>=2.8.1->pandas>=0.20.0->scikit-posthocs) (1.16.0)\n",
      "Requirement already satisfied: cycler>=0.10 in c:\\programdata\\anaconda3\\lib\\site-packages (from matplotlib->scikit-posthocs) (0.11.0)\n",
      "Requirement already satisfied: kiwisolver>=1.0.1 in c:\\programdata\\anaconda3\\lib\\site-packages (from matplotlib->scikit-posthocs) (1.3.2)\n",
      "Requirement already satisfied: packaging>=20.0 in c:\\programdata\\anaconda3\\lib\\site-packages (from matplotlib->scikit-posthocs) (21.3)\n",
      "Requirement already satisfied: fonttools>=4.22.0 in c:\\programdata\\anaconda3\\lib\\site-packages (from matplotlib->scikit-posthocs) (4.25.0)\n",
      "Requirement already satisfied: pyparsing>=2.2.1 in c:\\programdata\\anaconda3\\lib\\site-packages (from matplotlib->scikit-posthocs) (3.0.4)\n",
      "Requirement already satisfied: pillow>=6.2.0 in c:\\programdata\\anaconda3\\lib\\site-packages (from matplotlib->scikit-posthocs) (9.0.1)\n",
      "Requirement already satisfied: patsy>=0.5.2 in c:\\programdata\\anaconda3\\lib\\site-packages (from statsmodels->scikit-posthocs) (0.5.2)\n",
      "Installing collected packages: scikit-posthocs\n",
      "Successfully installed scikit-posthocs-0.7.0\n",
      "Note: you may need to restart the kernel to use updated packages.\n"
     ]
    }
   ],
   "source": [
    "pip install scikit-posthocs"
   ]
  },
  {
   "cell_type": "code",
   "execution_count": 4,
   "id": "73c95b0f",
   "metadata": {},
   "outputs": [
    {
     "name": "stdout",
     "output_type": "stream",
     "text": [
      "Defaulting to user installation because normal site-packages is not writeable\n",
      "Collecting lmfit\n",
      "  Downloading lmfit-1.0.3.tar.gz (292 kB)\n",
      "Collecting asteval>=0.9.22\n",
      "  Downloading asteval-0.9.27-py3-none-any.whl (17 kB)\n",
      "Requirement already satisfied: numpy>=1.18 in c:\\programdata\\anaconda3\\lib\\site-packages (from lmfit) (1.21.5)\n",
      "Requirement already satisfied: scipy>=1.4 in c:\\programdata\\anaconda3\\lib\\site-packages (from lmfit) (1.7.3)\n",
      "Collecting uncertainties>=3.0.1\n",
      "  Downloading uncertainties-3.1.6-py2.py3-none-any.whl (98 kB)\n",
      "Requirement already satisfied: future in c:\\programdata\\anaconda3\\lib\\site-packages (from uncertainties>=3.0.1->lmfit) (0.18.2)\n",
      "Building wheels for collected packages: lmfit\n",
      "  Building wheel for lmfit (setup.py): started\n",
      "  Building wheel for lmfit (setup.py): finished with status 'done'\n",
      "  Created wheel for lmfit: filename=lmfit-1.0.3-py3-none-any.whl size=84408 sha256=29288477bbe105cb63a97e35d8be1f4e5539b2cfd914374275eae758f30cfa92\n",
      "  Stored in directory: c:\\users\\user\\appdata\\local\\pip\\cache\\wheels\\76\\f4\\32\\c336957bfd694c7746f4df19b74e08d918ada688fe1349cca2\n",
      "Successfully built lmfit\n",
      "Installing collected packages: uncertainties, asteval, lmfit\n",
      "Successfully installed asteval-0.9.27 lmfit-1.0.3 uncertainties-3.1.6\n",
      "Note: you may need to restart the kernel to use updated packages.\n"
     ]
    }
   ],
   "source": [
    "pip install lmfit"
   ]
  },
  {
   "cell_type": "code",
   "execution_count": 3,
   "id": "f1b0baf0",
   "metadata": {},
   "outputs": [
    {
     "name": "stdout",
     "output_type": "stream",
     "text": [
      "Defaulting to user installation because normal site-packages is not writeable\n",
      "Collecting autorank\n",
      "  Downloading autorank-1.1.2-py3-none-any.whl (33 kB)\n",
      "Requirement already satisfied: scipy>=1.5.0 in c:\\programdata\\anaconda3\\lib\\site-packages (from autorank) (1.7.3)\n",
      "Requirement already satisfied: matplotlib>=3.1.3 in c:\\programdata\\anaconda3\\lib\\site-packages (from autorank) (3.5.1)\n",
      "Requirement already satisfied: numpy in c:\\programdata\\anaconda3\\lib\\site-packages (from autorank) (1.21.5)\n",
      "Requirement already satisfied: statsmodels>=0.10.0 in c:\\programdata\\anaconda3\\lib\\site-packages (from autorank) (0.13.2)\n",
      "Collecting baycomp>=1.0.2\n",
      "  Downloading baycomp-1.0.2-py3-none-any.whl (17 kB)\n",
      "Requirement already satisfied: pandas>=0.25.0 in c:\\programdata\\anaconda3\\lib\\site-packages (from autorank) (1.4.2)\n",
      "Requirement already satisfied: cycler>=0.10 in c:\\programdata\\anaconda3\\lib\\site-packages (from matplotlib>=3.1.3->autorank) (0.11.0)\n",
      "Requirement already satisfied: fonttools>=4.22.0 in c:\\programdata\\anaconda3\\lib\\site-packages (from matplotlib>=3.1.3->autorank) (4.25.0)\n",
      "Requirement already satisfied: python-dateutil>=2.7 in c:\\programdata\\anaconda3\\lib\\site-packages (from matplotlib>=3.1.3->autorank) (2.8.2)\n",
      "Requirement already satisfied: kiwisolver>=1.0.1 in c:\\programdata\\anaconda3\\lib\\site-packages (from matplotlib>=3.1.3->autorank) (1.3.2)\n",
      "Requirement already satisfied: pillow>=6.2.0 in c:\\programdata\\anaconda3\\lib\\site-packages (from matplotlib>=3.1.3->autorank) (9.0.1)\n",
      "Requirement already satisfied: pyparsing>=2.2.1 in c:\\programdata\\anaconda3\\lib\\site-packages (from matplotlib>=3.1.3->autorank) (3.0.4)\n",
      "Requirement already satisfied: packaging>=20.0 in c:\\programdata\\anaconda3\\lib\\site-packages (from matplotlib>=3.1.3->autorank) (21.3)\n",
      "Requirement already satisfied: pytz>=2020.1 in c:\\programdata\\anaconda3\\lib\\site-packages (from pandas>=0.25.0->autorank) (2021.3)\n",
      "Requirement already satisfied: six>=1.5 in c:\\programdata\\anaconda3\\lib\\site-packages (from python-dateutil>=2.7->matplotlib>=3.1.3->autorank) (1.16.0)\n",
      "Requirement already satisfied: patsy>=0.5.2 in c:\\programdata\\anaconda3\\lib\\site-packages (from statsmodels>=0.10.0->autorank) (0.5.2)\n",
      "Installing collected packages: baycomp, autorank\n",
      "Successfully installed autorank-1.1.2 baycomp-1.0.2\n",
      "Note: you may need to restart the kernel to use updated packages.\n"
     ]
    }
   ],
   "source": [
    "pip install autorank"
   ]
  },
  {
   "cell_type": "code",
   "execution_count": 1,
   "id": "ec563d96",
   "metadata": {},
   "outputs": [],
   "source": [
    "from pyVHR.analysis.pipeline import Pipeline\n",
    "import matplotlib.pyplot as plt"
   ]
  },
  {
   "cell_type": "code",
   "execution_count": 2,
   "id": "c85083d7",
   "metadata": {},
   "outputs": [],
   "source": [
    "pipe = Pipeline()\n"
   ]
  },
  {
   "cell_type": "code",
   "execution_count": 31,
   "id": "fcddb308",
   "metadata": {},
   "outputs": [
    {
     "name": "stdout",
     "output_type": "stream",
     "text": [
      "\n",
      "Processing Video: C:/Users/USER/Downloads/id3/cpi/cpi_gym/cv_camera_sensor_stream_handler.avi\n",
      "\n",
      "BVP extraction with method: cpu_POS\n",
      "\n",
      "BPM estimation with: welch\n",
      "\n",
      "...done!\n",
      "\n"
     ]
    },
    {
     "ename": "ValueError",
     "evalue": "operands could not be broadcast together with shapes (55,) (225,) ",
     "output_type": "error",
     "traceback": [
      "\u001b[1;31m---------------------------------------------------------------------------\u001b[0m",
      "\u001b[1;31mValueError\u001b[0m                                Traceback (most recent call last)",
      "Input \u001b[1;32mIn [31]\u001b[0m, in \u001b[0;36m<cell line: 5>\u001b[1;34m()\u001b[0m\n\u001b[0;32m      3\u001b[0m plt\u001b[38;5;241m.\u001b[39mfigure()\n\u001b[0;32m      4\u001b[0m plt\u001b[38;5;241m.\u001b[39mplot(time, BPM1)\n\u001b[1;32m----> 5\u001b[0m plt\u001b[38;5;241m.\u001b[39mfill_between(time, BPM1\u001b[38;5;241m-\u001b[39muncertainty, \u001b[43mBPM\u001b[49m\u001b[38;5;241;43m+\u001b[39;49m\u001b[43muncertainty\u001b[49m, alpha\u001b[38;5;241m=\u001b[39m\u001b[38;5;241m0.2\u001b[39m)\n\u001b[0;32m      6\u001b[0m plt\u001b[38;5;241m.\u001b[39mshow()\n",
      "\u001b[1;31mValueError\u001b[0m: operands could not be broadcast together with shapes (55,) (225,) "
     ]
    },
    {
     "data": {
      "image/png": "[encoded data removed]",
      "text/plain": [
       "<Figure size 432x288 with 1 Axes>"
      ]
     },
     "metadata": {
      "needs_background": "light"
     },
     "output_type": "display_data"
    }
   ],
   "source": [
    "time, BPM1, uncertainty = pipe.run_on_video('C:/Users/USER/Downloads/id3/cpi/cpi_gym/cv_camera_sensor_stream_handler.avi', roi_approach=\"patches\", roi_method=\"faceparsing\")\n",
    "\n",
    "plt.figure()\n",
    "plt.plot(time, BPM1)\n",
    "plt.fill_between(time, BPM1-uncertainty, BPM+uncertainty, alpha=0.2)\n",
    "plt.show()"
   ]
  },
  {
   "cell_type": "code",
   "execution_count": null,
   "id": "4c67181f",
   "metadata": {},
   "outputs": [],
   "source": [
    "BPM1"
   ]
  },
  {
   "cell_type": "code",
   "execution_count": null,
   "id": "d25d285a",
   "metadata": {},
   "outputs": [],
   "source": [
    "time"
   ]
  },
  {
   "cell_type": "code",
   "execution_count": null,
   "id": "ff3979d8",
   "metadata": {},
   "outputs": [],
   "source": [
    "import matplotlib.pyplot as plt\n",
    "  \n",
    "\n",
    "# plotting the points \n",
    "plt.plot(time,BPM)\n",
    "  \n",
    "# naming the x axis\n",
    "plt.xlabel('Time')\n",
    "# naming the y axis\n",
    "plt.ylabel('Heartbeat')\n",
    "  \n",
    "# giving a title to my graph\n",
    "plt.title('Heartbeat rate calculation')\n",
    "  \n",
    "# function to show the plot\n",
    "plt.show()"
   ]
  },
  {
   "cell_type": "code",
   "execution_count": null,
   "id": "c30a2b9b",
   "metadata": {},
   "outputs": [],
   "source": [
    "time, BPM2, uncertainty = pipe.run_on_video('C:/Users/USER/Downloads/test.mp4', roi_approach=\"patches\", roi_method=\"faceparsing\")\n",
    "\n",
    "plt.figure()\n",
    "plt.plot(time, BPM2)\n",
    "plt.fill_between(time, BPM-uncertainty, BPM+uncertainty, alpha=0.2)\n",
    "plt.show()"
   ]
  },
  {
   "cell_type": "code",
   "execution_count": null,
   "id": "54b2dec8",
   "metadata": {},
   "outputs": [],
   "source": [
    "time, BPM3, uncertainty = pipe.run_on_video('C:/Users/USER/Downloads/test1.mp4', roi_approach=\"patches\", roi_method=\"faceparsing\")\n",
    "\n",
    "plt.figure()\n",
    "plt.plot(time, BPM3)\n",
    "plt.fill_between(time, BPM-uncertainty, BPM+uncertainty, alpha=0.2)\n",
    "plt.show()"
   ]
  },
  {
   "cell_type": "code",
   "execution_count": null,
   "id": "3d99f05f",
   "metadata": {},
   "outputs": [],
   "source": [
    "time, BPM4, uncertainty = pipe.run_on_video('C:/Users/USER/Downloads/test1.mp4', roi_approach=\"patches\", roi_method=\"convexhull\")\n",
    "\n",
    "plt.figure()\n",
    "plt.plot(time, BPM4)\n",
    "plt.fill_between(time, BPM-uncertainty, BPM+uncertainty, alpha=0.2)\n",
    "plt.show()"
   ]
  },
  {
   "cell_type": "code",
   "execution_count": 19,
   "id": "75ce9294",
   "metadata": {},
   "outputs": [
    {
     "data": {
      "text/plain": [
       "array([65.91982269, 62.88404083, 64.18508911, 67.22087097, 65.91982269,\n",
       "       57.2461586 , 52.04196548, 65.05245209, 65.91982269, 55.07774353,\n",
       "       64.18508911, 49.43986511, 52.47564697, 48.57249832, 58.98089218,\n",
       "       55.51142883, 54.64406204, 56.37879181, 55.51142883, 57.2461586 ,\n",
       "       65.05245209, 66.35350037, 63.75140381, 58.11352539, 58.98089218,\n",
       "       58.98089218, 61.14930725, 65.05245209, 66.78718567, 64.61877441,\n",
       "       65.05245209, 60.71562195, 58.11352539, 61.58298874, 66.78718567,\n",
       "       65.48613739, 65.48613739, 68.95560455, 63.75140381, 64.18508911,\n",
       "       62.45035934, 63.31771851, 64.18508911, 59.84825897, 55.51142883,\n",
       "       54.64406204, 54.64406204, 55.51142883, 59.41457367, 64.18508911,\n",
       "       64.18508911, 65.91982269, 56.37879181, 58.98089218, 63.31772232])"
      ]
     },
     "execution_count": 19,
     "metadata": {},
     "output_type": "execute_result"
    }
   ],
   "source": [
    "BPM"
   ]
  },
  {
   "cell_type": "code",
   "execution_count": 26,
   "id": "283cdcfb",
   "metadata": {},
   "outputs": [
    {
     "data": {
      "text/plain": [
       "3345.864570617676"
      ]
     },
     "execution_count": 26,
     "metadata": {},
     "output_type": "execute_result"
    }
   ],
   "source": [
    "sum(BPM)"
   ]
  },
  {
   "cell_type": "code",
   "execution_count": 27,
   "id": "12a53a5e",
   "metadata": {},
   "outputs": [
    {
     "data": {
      "text/plain": [
       "55"
      ]
     },
     "execution_count": 27,
     "metadata": {},
     "output_type": "execute_result"
    }
   ],
   "source": [
    "len(BPM)"
   ]
  },
  {
   "cell_type": "code",
   "execution_count": 28,
   "id": "d45361bf",
   "metadata": {},
   "outputs": [],
   "source": [
    "avg=sum(BPM)/len(BPM)"
   ]
  },
  {
   "cell_type": "code",
   "execution_count": 29,
   "id": "32409c66",
   "metadata": {},
   "outputs": [
    {
     "data": {
      "text/plain": [
       "60.83390128395774"
      ]
     },
     "execution_count": 29,
     "metadata": {},
     "output_type": "execute_result"
    }
   ],
   "source": [
    "avg"
   ]
  },
  {
   "cell_type": "code",
   "execution_count": null,
   "id": "e389075b",
   "metadata": {},
   "outputs": [],
   "source": []
  }
 ],
 "metadata": {
  "kernelspec": {
   "display_name": "Python 3 (ipykernel)",
   "language": "python",
   "name": "python3"
  },
  "language_info": {
   "codemirror_mode": {
    "name": "ipython",
    "version": 3
   },
   "file_extension": ".py",
   "mimetype": "text/x-python",
   "name": "python",
   "nbconvert_exporter": "python",
   "pygments_lexer": "ipython3",
   "version": "3.9.12"
  }
 },
 "nbformat": 4,
 "nbformat_minor": 5
}
